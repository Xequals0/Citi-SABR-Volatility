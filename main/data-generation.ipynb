{
 "cells": [
  {
   "cell_type": "code",
   "execution_count": 1,
   "id": "c49b0fb5-a437-49b1-bc1f-44c4c9799a35",
   "metadata": {},
   "outputs": [],
   "source": [
    "import numpy as np\n",
    "import QuantLib as ql\n",
    "import csv"
   ]
  },
  {
   "cell_type": "code",
   "execution_count": 2,
   "id": "c32f3cc5-3b35-4ddd-959c-32cac9a8a6ab",
   "metadata": {},
   "outputs": [],
   "source": [
    "today = ql.Date(1,1,2022)\n",
    "ql.Settings.instance().setEvaluationDate(today)\n",
    "day_counter = ql.Actual365Fixed()"
   ]
  },
  {
   "cell_type": "code",
   "execution_count": 3,
   "id": "01a87f2f-0c6a-4237-8324-e5b01996d9f0",
   "metadata": {},
   "outputs": [],
   "source": [
    "def fdm(strike, forward, expiry_time, alpha, beta, nu, rho, t_grid=20, f_grid=200, x_grid=25, scaling_factor=1.0, eps=.0001):\n",
    "    maturity_date = today + ql.Period(int(365*expiry_time), ql.Days)\n",
    "    r_ts = ql.YieldTermStructureHandle(ql.FlatForward(today, 0.0, day_counter))\n",
    "    vol_ts = ql.BlackVolTermStructureHandle(ql.BlackConstantVol(0, ql.NullCalendar(), 0.0, day_counter))\n",
    "    bs_process = ql.GeneralizedBlackScholesProcess(ql.QuoteHandle(ql.SimpleQuote(forward)), r_ts, r_ts, vol_ts)\n",
    "    option = ql.VanillaOption(ql.PlainVanillaPayoff(ql.Option.Call, strike), ql.EuropeanExercise(maturity_date))\n",
    "    option.setPricingEngine(ql.FdSabrVanillaEngine(forward, alpha, beta, nu, rho, r_ts, t_grid, f_grid, x_grid, 0, scaling_factor, eps))\n",
    "    return option.impliedVolatility(option.NPV(), bs_process, 1.0e-4, 1000, 1.0e-5, 1.0)"
   ]
  },
  {
   "cell_type": "code",
   "execution_count": null,
   "id": "4f10e348-8299-4a23-9d4d-5a9a21419423",
   "metadata": {},
   "outputs": [],
   "source": [
    "file_name = 'fdm_hagan_vol_train.csv'\n",
    "strikes = [0.8, 0.9, 1.0, 1.1, 1.2, 1.3]\n",
    "tenors = [0.5, 1, 1.5, 2, 3, 4, 5, 6, 7, 8, 9, 10]\n",
    "alphas = [0.1, 0.2, 0.3, 0.4, 0.5, 0.6, 0.7, 0.8, 0.9]\n",
    "betas = [0.001, 0.05, 0.1, 0.15, 0.2, 0.25, 0.3, 0.35, 0.4, 0.45, 0.5]\n",
    "nus = [0.1, 0.15, 0.2, 0.25, 0.3, 0.35, 0.4, 0.45, 0.5]\n",
    "rhos = [-0.1, -0.075, -0.05, -0.025, 0, 0.025, 0.05, 0.075, 0.1]\n",
    "\n",
    "with open(file_name, 'w', newline='') as csvfile:\n",
    "    writer = csv.writer(csvfile)\n",
    "    writer.writerow([\"Strike\", \"Tenor\", \"Alpha\", \"Beta\", \"Nu\", \"Rho\", \"FDM_vol\", \"Hagan_vol\"])\n",
    "\n",
    "for strike in strikes:\n",
    "    for tenor in tenors:\n",
    "        for alpha in alphas:\n",
    "            with open(file_name, 'a', newline='') as csvfile:\n",
    "                writer = csv.writer(csvfile)\n",
    "                for beta in betas:\n",
    "                    for nu in nus:\n",
    "                        for rho in rhos:\n",
    "                            try:\n",
    "                                fdm_vol = fdm(strike, 1, tenor, alpha, beta, nu, rho, 40, 200, 25, eps=.00001)\n",
    "                                if fdm_vol != 1.0e-5:\n",
    "                                    writer.writerow([\n",
    "                                        strike,\n",
    "                                        tenor,\n",
    "                                        alpha,\n",
    "                                        beta,\n",
    "                                        nu,\n",
    "                                        rho,\n",
    "                                        fdm_vol,\n",
    "                                        ql.sabrVolatility(strike, 1, tenor, alpha, beta, nu, rho)\n",
    "                                    ])\n",
    "                            except:\n",
    "                                pass\n"
   ]
  },
  {
   "cell_type": "code",
   "execution_count": null,
   "id": "2e4e1729-57f9-4159-990e-fedf7d690f0f",
   "metadata": {},
   "outputs": [],
   "source": [
    "with open('fdm_hagan_vol_test.csv', 'w', newline='') as csvfile:\n",
    "    writer = csv.writer(csvfile)\n",
    "    writer.writerow([\"Strike\", \"Tenor\", \"Alpha\", \"Beta\", \"Nu\", \"Rho\", \"FDM_vol\", \"Hagan_vol\"])\n",
    "\n",
    "    count = 0\n",
    "    while count < 50000:\n",
    "        strike = np.random.uniform(0.8, 1.3)\n",
    "        tenor = np.random.uniform(0.5, 10)\n",
    "        alpha = np.random.uniform(0.1, 0.9)\n",
    "        beta = np.random.uniform(0.001, 0.5)\n",
    "        nu = np.random.uniform(0.1, 0.5)\n",
    "        rho = np.random.uniform(-0.1, 0.1)\n",
    "        try:\n",
    "            fdm_vol = fdm(strike, 1, tenor, alpha, beta, nu, rho, 40, 200, 25, eps=.00001)\n",
    "            if fdm_vol != 1.0e-5:\n",
    "                writer.writerow([\n",
    "                    strike,\n",
    "                    tenor,\n",
    "                    alpha,\n",
    "                    beta,\n",
    "                    nu,\n",
    "                    rho,\n",
    "                    fdm_vol,\n",
    "                    ql.sabrVolatility(strike, 1, tenor, alpha, beta, nu, rho)\n",
    "                ])\n",
    "                count += 1\n",
    "        except:\n",
    "            pass\n"
   ]
  }
 ],
 "metadata": {
  "kernelspec": {
   "display_name": "Python 3 (ipykernel)",
   "language": "python",
   "name": "python3"
  },
  "language_info": {
   "codemirror_mode": {
    "name": "ipython",
    "version": 3
   },
   "file_extension": ".py",
   "mimetype": "text/x-python",
   "name": "python",
   "nbconvert_exporter": "python",
   "pygments_lexer": "ipython3",
   "version": "3.8.13"
  }
 },
 "nbformat": 4,
 "nbformat_minor": 5
}
