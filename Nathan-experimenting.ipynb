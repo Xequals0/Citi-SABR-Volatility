{
 "cells": [
  {
   "cell_type": "code",
   "execution_count": 78,
   "id": "c49b0fb5-a437-49b1-bc1f-44c4c9799a35",
   "metadata": {},
   "outputs": [],
   "source": [
    "import tensorly as tl\n",
    "import numpy as np\n",
    "import QuantLib as ql\n",
    "import matplotlib.pyplot as plt\n",
    "import pysabr"
   ]
  },
  {
   "cell_type": "code",
   "execution_count": 79,
   "id": "c32f3cc5-3b35-4ddd-959c-32cac9a8a6ab",
   "metadata": {},
   "outputs": [],
   "source": [
    "today = ql.Date(1,1,2022)\n",
    "ql.Settings.instance().setEvaluationDate(today)\n",
    "day_counter = ql.Actual365Fixed()"
   ]
  },
  {
   "cell_type": "code",
   "execution_count": 141,
   "id": "01a87f2f-0c6a-4237-8324-e5b01996d9f0",
   "metadata": {},
   "outputs": [],
   "source": [
    "def fdm(strike, forward, expiry_time, alpha, beta, nu, rho, t_grid=20, f_grid=200, x_grid=25, scaling_factor=1.0, eps=.0001):\n",
    "    maturity_date = today + ql.Period(int(365*expiry_time), ql.Days)\n",
    "    r_ts = ql.YieldTermStructureHandle(ql.FlatForward(today, 0.05, day_counter))\n",
    "    vol_ts = ql.BlackVolTermStructureHandle(ql.BlackConstantVol(today, ql.TARGET(), 0.2, day_counter))\n",
    "    bs_process = ql.GeneralizedBlackScholesProcess(ql.QuoteHandle(ql.SimpleQuote(forward)), r_ts, r_ts, vol_ts)\n",
    "    option = ql.VanillaOption(ql.PlainVanillaPayoff(ql.Option.Call, strike), ql.EuropeanExercise(maturity_date))\n",
    "    option.setPricingEngine(ql.FdSabrVanillaEngine(forward, alpha, beta, nu, rho, r_ts, t_grid, f_grid, x_grid, 0, scaling_factor, eps))\n",
    "    return option.impliedVolatility(option.NPV(), bs_process, 1.0e-7, 1000, -10.0, 100.0)"
   ]
  },
  {
   "cell_type": "code",
   "execution_count": 144,
   "id": "259fd0f1-5c3a-4c4c-abbc-6ae184eee285",
   "metadata": {},
   "outputs": [],
   "source": [
    "def fdm_price(strike, forward, expiry_time, alpha, beta, nu, rho, t_grid=20, f_grid=200, x_grid=25, scaling_factor=1.0, eps=.0001):\n",
    "    maturity_date = today + ql.Period(int(365*expiry_time), ql.Days)\n",
    "    r_ts = ql.YieldTermStructureHandle(ql.FlatForward(today, 0.05, day_counter))\n",
    "    option = ql.VanillaOption(ql.PlainVanillaPayoff(ql.Option.Call, strike), ql.EuropeanExercise(maturity_date))\n",
    "    option.setPricingEngine(ql.FdSabrVanillaEngine(forward, alpha, beta, nu, rho, r_ts, t_grid, f_grid, x_grid, 0, scaling_factor, eps))\n",
    "    return option.NPV()"
   ]
  },
  {
   "cell_type": "code",
   "execution_count": 142,
   "id": "97ff4274-4614-4365-8bf0-77605e0ebe42",
   "metadata": {},
   "outputs": [],
   "source": [
    "strikes = np.exp(np.linspace(-1, 1, 10))\n",
    "forward = 1\n",
    "expiry_time = 0.5\n",
    "alpha = 0.2\n",
    "beta = 0.4\n",
    "nu = 0.5\n",
    "rho = -0.4\n",
    "# hagan_vols = [ql.sabrVolatility(strike, forward, day_counter.yearFraction(today, today + ql.Period(int(365*expiry_time), ql.Days)), alpha, beta, nu, rho) for strike in strikes]\n",
    "# fdm_vols = [fdm(strike, forward, expiry_time, alpha, beta, nu, rho, scaling_factor=10) for strike in strikes]"
   ]
  },
  {
   "cell_type": "code",
   "execution_count": 143,
   "id": "852a2246-a0ed-4db2-9040-31e63f3dfcd8",
   "metadata": {},
   "outputs": [
    {
     "ename": "RuntimeError",
     "evalue": "root not bracketed: f[-10,100] -> [3.585780e-01,3.588210e-01]",
     "output_type": "error",
     "traceback": [
      "\u001b[0;31m---------------------------------------------------------------------------\u001b[0m",
      "\u001b[0;31mRuntimeError\u001b[0m                              Traceback (most recent call last)",
      "Input \u001b[0;32mIn [143]\u001b[0m, in \u001b[0;36m<cell line: 4>\u001b[0;34m()\u001b[0m\n\u001b[1;32m      1\u001b[0m \u001b[38;5;66;03m# plt.plot(np.log(strikes), np.array(hagan_vols)-np.array(fdm_vols))\u001b[39;00m\n\u001b[1;32m      2\u001b[0m \u001b[38;5;66;03m# plt.plot(np.log(strikes), fdm_vols)\u001b[39;00m\n\u001b[1;32m      3\u001b[0m \u001b[38;5;66;03m# plt.plot(np.log(strikes), hagan_vols)\u001b[39;00m\n\u001b[0;32m----> 4\u001b[0m plt\u001b[38;5;241m.\u001b[39mplot(np\u001b[38;5;241m.\u001b[39mlog(strikes), [ql\u001b[38;5;241m.\u001b[39msabrVolatility(strike, forward, day_counter\u001b[38;5;241m.\u001b[39myearFraction(today, today \u001b[38;5;241m+\u001b[39m ql\u001b[38;5;241m.\u001b[39mPeriod(\u001b[38;5;28mint\u001b[39m(\u001b[38;5;241m365\u001b[39m\u001b[38;5;241m*\u001b[39mexpiry_time), ql\u001b[38;5;241m.\u001b[39mDays)), alpha, beta, nu, rho) \u001b[38;5;241m-\u001b[39m fdm(strike, forward, expiry_time, alpha, beta, nu, rho) \u001b[38;5;28;01mfor\u001b[39;00m strike \u001b[38;5;129;01min\u001b[39;00m strikes])\n\u001b[1;32m      5\u001b[0m plt\u001b[38;5;241m.\u001b[39mplot(np\u001b[38;5;241m.\u001b[39mlog(strikes), [ql\u001b[38;5;241m.\u001b[39msabrVolatility(strike, forward, day_counter\u001b[38;5;241m.\u001b[39myearFraction(today, today \u001b[38;5;241m+\u001b[39m ql\u001b[38;5;241m.\u001b[39mPeriod(\u001b[38;5;28mint\u001b[39m(\u001b[38;5;241m365\u001b[39m\u001b[38;5;241m*\u001b[39mexpiry_time), ql\u001b[38;5;241m.\u001b[39mDays)), alpha, beta, nu, rho) \u001b[38;5;241m-\u001b[39m fdm(strike, forward, expiry_time, alpha, beta, nu, rho, \u001b[38;5;241m60\u001b[39m, \u001b[38;5;241m600\u001b[39m, \u001b[38;5;241m75\u001b[39m) \u001b[38;5;28;01mfor\u001b[39;00m strike \u001b[38;5;129;01min\u001b[39;00m strikes])\n",
      "Input \u001b[0;32mIn [143]\u001b[0m, in \u001b[0;36m<listcomp>\u001b[0;34m(.0)\u001b[0m\n\u001b[1;32m      1\u001b[0m \u001b[38;5;66;03m# plt.plot(np.log(strikes), np.array(hagan_vols)-np.array(fdm_vols))\u001b[39;00m\n\u001b[1;32m      2\u001b[0m \u001b[38;5;66;03m# plt.plot(np.log(strikes), fdm_vols)\u001b[39;00m\n\u001b[1;32m      3\u001b[0m \u001b[38;5;66;03m# plt.plot(np.log(strikes), hagan_vols)\u001b[39;00m\n\u001b[0;32m----> 4\u001b[0m plt\u001b[38;5;241m.\u001b[39mplot(np\u001b[38;5;241m.\u001b[39mlog(strikes), [ql\u001b[38;5;241m.\u001b[39msabrVolatility(strike, forward, day_counter\u001b[38;5;241m.\u001b[39myearFraction(today, today \u001b[38;5;241m+\u001b[39m ql\u001b[38;5;241m.\u001b[39mPeriod(\u001b[38;5;28mint\u001b[39m(\u001b[38;5;241m365\u001b[39m\u001b[38;5;241m*\u001b[39mexpiry_time), ql\u001b[38;5;241m.\u001b[39mDays)), alpha, beta, nu, rho) \u001b[38;5;241m-\u001b[39m \u001b[43mfdm\u001b[49m\u001b[43m(\u001b[49m\u001b[43mstrike\u001b[49m\u001b[43m,\u001b[49m\u001b[43m \u001b[49m\u001b[43mforward\u001b[49m\u001b[43m,\u001b[49m\u001b[43m \u001b[49m\u001b[43mexpiry_time\u001b[49m\u001b[43m,\u001b[49m\u001b[43m \u001b[49m\u001b[43malpha\u001b[49m\u001b[43m,\u001b[49m\u001b[43m \u001b[49m\u001b[43mbeta\u001b[49m\u001b[43m,\u001b[49m\u001b[43m \u001b[49m\u001b[43mnu\u001b[49m\u001b[43m,\u001b[49m\u001b[43m \u001b[49m\u001b[43mrho\u001b[49m\u001b[43m)\u001b[49m \u001b[38;5;28;01mfor\u001b[39;00m strike \u001b[38;5;129;01min\u001b[39;00m strikes])\n\u001b[1;32m      5\u001b[0m plt\u001b[38;5;241m.\u001b[39mplot(np\u001b[38;5;241m.\u001b[39mlog(strikes), [ql\u001b[38;5;241m.\u001b[39msabrVolatility(strike, forward, day_counter\u001b[38;5;241m.\u001b[39myearFraction(today, today \u001b[38;5;241m+\u001b[39m ql\u001b[38;5;241m.\u001b[39mPeriod(\u001b[38;5;28mint\u001b[39m(\u001b[38;5;241m365\u001b[39m\u001b[38;5;241m*\u001b[39mexpiry_time), ql\u001b[38;5;241m.\u001b[39mDays)), alpha, beta, nu, rho) \u001b[38;5;241m-\u001b[39m fdm(strike, forward, expiry_time, alpha, beta, nu, rho, \u001b[38;5;241m60\u001b[39m, \u001b[38;5;241m600\u001b[39m, \u001b[38;5;241m75\u001b[39m) \u001b[38;5;28;01mfor\u001b[39;00m strike \u001b[38;5;129;01min\u001b[39;00m strikes])\n",
      "Input \u001b[0;32mIn [141]\u001b[0m, in \u001b[0;36mfdm\u001b[0;34m(strike, forward, expiry_time, alpha, beta, nu, rho, t_grid, f_grid, x_grid, scaling_factor, eps)\u001b[0m\n\u001b[1;32m      6\u001b[0m option \u001b[38;5;241m=\u001b[39m ql\u001b[38;5;241m.\u001b[39mVanillaOption(ql\u001b[38;5;241m.\u001b[39mPlainVanillaPayoff(ql\u001b[38;5;241m.\u001b[39mOption\u001b[38;5;241m.\u001b[39mCall, strike), ql\u001b[38;5;241m.\u001b[39mEuropeanExercise(maturity_date))\n\u001b[1;32m      7\u001b[0m option\u001b[38;5;241m.\u001b[39msetPricingEngine(ql\u001b[38;5;241m.\u001b[39mFdSabrVanillaEngine(forward, alpha, beta, nu, rho, r_ts, t_grid, f_grid, x_grid, \u001b[38;5;241m0\u001b[39m, scaling_factor, eps))\n\u001b[0;32m----> 8\u001b[0m \u001b[38;5;28;01mreturn\u001b[39;00m \u001b[43moption\u001b[49m\u001b[38;5;241;43m.\u001b[39;49m\u001b[43mimpliedVolatility\u001b[49m\u001b[43m(\u001b[49m\u001b[43moption\u001b[49m\u001b[38;5;241;43m.\u001b[39;49m\u001b[43mNPV\u001b[49m\u001b[43m(\u001b[49m\u001b[43m)\u001b[49m\u001b[43m,\u001b[49m\u001b[43m \u001b[49m\u001b[43mbs_process\u001b[49m\u001b[43m,\u001b[49m\u001b[43m \u001b[49m\u001b[38;5;241;43m1.0e-7\u001b[39;49m\u001b[43m,\u001b[49m\u001b[43m \u001b[49m\u001b[38;5;241;43m1000\u001b[39;49m\u001b[43m,\u001b[49m\u001b[43m \u001b[49m\u001b[38;5;241;43m-\u001b[39;49m\u001b[38;5;241;43m10.0\u001b[39;49m\u001b[43m,\u001b[49m\u001b[43m \u001b[49m\u001b[38;5;241;43m100.0\u001b[39;49m\u001b[43m)\u001b[49m\n",
      "File \u001b[0;32m/opt/anaconda3/envs/citi/lib/python3.8/site-packages/QuantLib/QuantLib.py:11832\u001b[0m, in \u001b[0;36mVanillaOption.impliedVolatility\u001b[0;34m(self, targetValue, process, accuracy, maxEvaluations, minVol, maxVol)\u001b[0m\n\u001b[1;32m  11831\u001b[0m \u001b[38;5;28;01mdef\u001b[39;00m \u001b[38;5;21mimpliedVolatility\u001b[39m(\u001b[38;5;28mself\u001b[39m, targetValue, process, accuracy\u001b[38;5;241m=\u001b[39m\u001b[38;5;241m1.0e-4\u001b[39m, maxEvaluations\u001b[38;5;241m=\u001b[39m\u001b[38;5;241m100\u001b[39m, minVol\u001b[38;5;241m=\u001b[39m\u001b[38;5;241m1.0e-4\u001b[39m, maxVol\u001b[38;5;241m=\u001b[39m\u001b[38;5;241m4.0\u001b[39m):\n\u001b[0;32m> 11832\u001b[0m     \u001b[38;5;28;01mreturn\u001b[39;00m \u001b[43m_QuantLib\u001b[49m\u001b[38;5;241;43m.\u001b[39;49m\u001b[43mVanillaOption_impliedVolatility\u001b[49m\u001b[43m(\u001b[49m\u001b[38;5;28;43mself\u001b[39;49m\u001b[43m,\u001b[49m\u001b[43m \u001b[49m\u001b[43mtargetValue\u001b[49m\u001b[43m,\u001b[49m\u001b[43m \u001b[49m\u001b[43mprocess\u001b[49m\u001b[43m,\u001b[49m\u001b[43m \u001b[49m\u001b[43maccuracy\u001b[49m\u001b[43m,\u001b[49m\u001b[43m \u001b[49m\u001b[43mmaxEvaluations\u001b[49m\u001b[43m,\u001b[49m\u001b[43m \u001b[49m\u001b[43mminVol\u001b[49m\u001b[43m,\u001b[49m\u001b[43m \u001b[49m\u001b[43mmaxVol\u001b[49m\u001b[43m)\u001b[49m\n",
      "\u001b[0;31mRuntimeError\u001b[0m: root not bracketed: f[-10,100] -> [3.585780e-01,3.588210e-01]"
     ]
    }
   ],
   "source": [
    "# plt.plot(np.log(strikes), np.array(hagan_vols)-np.array(fdm_vols))\n",
    "# plt.plot(np.log(strikes), fdm_vols)\n",
    "# plt.plot(np.log(strikes), hagan_vols)\n",
    "plt.plot(np.log(strikes), [ql.sabrVolatility(strike, forward, day_counter.yearFraction(today, today + ql.Period(int(365*expiry_time), ql.Days)), alpha, beta, nu, rho) - fdm(strike, forward, expiry_time, alpha, beta, nu, rho) for strike in strikes])\n",
    "plt.plot(np.log(strikes), [ql.sabrVolatility(strike, forward, day_counter.yearFraction(today, today + ql.Period(int(365*expiry_time), ql.Days)), alpha, beta, nu, rho) - fdm(strike, forward, expiry_time, alpha, beta, nu, rho, 60, 600, 75) for strike in strikes])\n",
    "# plt.plot(np.log(strikes), [ql.sabrVolatility(strike, forward, day_counter.yearFraction(today, today + ql.Period(int(365*expiry_time), ql.Days)), alpha, beta, nu, rho) - fdm(strike, forward, expiry_time, alpha, beta, nu, rho, 120, 1200, 150) for strike in strikes])"
   ]
  },
  {
   "cell_type": "code",
   "execution_count": 91,
   "id": "55204043-bf1f-4902-aa94-7720ececec50",
   "metadata": {},
   "outputs": [
    {
     "data": {
      "text/plain": [
       "1.1187952607144929"
      ]
     },
     "execution_count": 91,
     "metadata": {},
     "output_type": "execute_result"
    }
   ],
   "source": [
    "fdm(0.466, 1.0, 0.6, 0.825, 0.299, 0.41, -0.166)"
   ]
  },
  {
   "cell_type": "code",
   "execution_count": 34,
   "id": "b7957345-d4a2-4b39-ac3c-e4c0b858429b",
   "metadata": {},
   "outputs": [
    {
     "data": {
      "text/plain": [
       "0.9787179973136005"
      ]
     },
     "execution_count": 34,
     "metadata": {},
     "output_type": "execute_result"
    }
   ],
   "source": [
    "fdm(0.466, 1.0, 0.6, 0.825, 0.299, 0.41, -0.166, scaling_factor=0.25)"
   ]
  },
  {
   "cell_type": "code",
   "execution_count": 5,
   "id": "5261f433-b17f-4d1c-96e4-b17acb5717bb",
   "metadata": {},
   "outputs": [
    {
     "data": {
      "text/plain": [
       "1.1181181462752756"
      ]
     },
     "execution_count": 5,
     "metadata": {},
     "output_type": "execute_result"
    }
   ],
   "source": [
    "fdm(0.466, 1.0, 0.6, 0.825, 0.299, 0.41, -0.166, 40, 400, 50)"
   ]
  },
  {
   "cell_type": "code",
   "execution_count": 6,
   "id": "8d072b5a-7a4d-43d6-8510-bc4f2ef3ac78",
   "metadata": {},
   "outputs": [
    {
     "data": {
      "text/plain": [
       "1.117992671559152"
      ]
     },
     "execution_count": 6,
     "metadata": {},
     "output_type": "execute_result"
    }
   ],
   "source": [
    "fdm(0.466, 1.0, 0.6, 0.825, 0.299, 0.41, -0.166, 60, 600, 75)"
   ]
  },
  {
   "cell_type": "code",
   "execution_count": 92,
   "id": "9bc96d88-4004-4995-8146-01b12e490ba3",
   "metadata": {},
   "outputs": [
    {
     "data": {
      "text/plain": [
       "1.1179012631386676"
      ]
     },
     "execution_count": 92,
     "metadata": {},
     "output_type": "execute_result"
    }
   ],
   "source": [
    "fdm(0.466, 1.0, 0.6, 0.825, 0.299, 0.41, -0.166, 200, 2000, 250)"
   ]
  },
  {
   "cell_type": "code",
   "execution_count": 100,
   "id": "559736bf-c9e2-4051-b4fc-59a0bd773e3d",
   "metadata": {},
   "outputs": [
    {
     "data": {
      "text/plain": [
       "0.35606294808831723"
      ]
     },
     "execution_count": 100,
     "metadata": {},
     "output_type": "execute_result"
    }
   ],
   "source": [
    "fdm(0.8, 1.0, 0.2, 0.3, 0.4, 0.5, -0.6, 200, 2000, 250, eps=.0000001)"
   ]
  },
  {
   "cell_type": "code",
   "execution_count": null,
   "id": "2e215ebe-a694-42ef-8bdc-967c0e16b256",
   "metadata": {},
   "outputs": [],
   "source": [
    "plt.plot([fdm(0.466, 1.0, 0.6, 0.825, 0.299, 0.41, -0.166, i*20, i*200, i*25) for i in range(2)])"
   ]
  },
  {
   "cell_type": "code",
   "execution_count": 7,
   "id": "ac6152fe-68f5-467c-8471-8ca19d23dd72",
   "metadata": {},
   "outputs": [
    {
     "data": {
      "text/plain": [
       "1.1253570466015932"
      ]
     },
     "execution_count": 7,
     "metadata": {},
     "output_type": "execute_result"
    }
   ],
   "source": [
    "ql.sabrVolatility(0.466, 1.0, 0.6, 0.825, 0.299, 0.41, -0.166)"
   ]
  },
  {
   "cell_type": "code",
   "execution_count": 102,
   "id": "33588c1f-a52c-44e7-be59-30b76eec7119",
   "metadata": {},
   "outputs": [
    {
     "data": {
      "text/plain": [
       "0.3562478823424832"
      ]
     },
     "execution_count": 102,
     "metadata": {},
     "output_type": "execute_result"
    }
   ],
   "source": [
    "ql.sabrVolatility(0.8, 1.0, 0.2, 0.3, 0.4, 0.5, -0.6)"
   ]
  },
  {
   "cell_type": "code",
   "execution_count": 147,
   "id": "4361fed0-3b70-4cb1-b9d1-83d328fab76f",
   "metadata": {},
   "outputs": [
    {
     "data": {
      "text/plain": [
       "0.5745809606064761"
      ]
     },
     "execution_count": 147,
     "metadata": {},
     "output_type": "execute_result"
    }
   ],
   "source": [
    "fdm_price(0.466, 1.0, 0.6, 0.825, 0.299, 0.410, -0.166, eps=1.0e-7)"
   ]
  },
  {
   "cell_type": "code",
   "execution_count": 146,
   "id": "2871d0b8-2723-42b1-9c5c-912557a88620",
   "metadata": {},
   "outputs": [
    {
     "data": {
      "text/plain": [
       "0.5744852218698189"
      ]
     },
     "execution_count": 146,
     "metadata": {},
     "output_type": "execute_result"
    }
   ],
   "source": [
    "fdm_price(0.466, 1.0, 0.6, 0.825, 0.299, 0.410, -0.166, 200, 2000, 250)"
   ]
  },
  {
   "cell_type": "code",
   "execution_count": null,
   "id": "6c168c69-f80a-4ad9-9c30-b5270bf2bd2d",
   "metadata": {},
   "outputs": [],
   "source": []
  }
 ],
 "metadata": {
  "kernelspec": {
   "display_name": "Python 3 (ipykernel)",
   "language": "python",
   "name": "python3"
  },
  "language_info": {
   "codemirror_mode": {
    "name": "ipython",
    "version": 3
   },
   "file_extension": ".py",
   "mimetype": "text/x-python",
   "name": "python",
   "nbconvert_exporter": "python",
   "pygments_lexer": "ipython3",
   "version": "3.8.13"
  }
 },
 "nbformat": 4,
 "nbformat_minor": 5
}
