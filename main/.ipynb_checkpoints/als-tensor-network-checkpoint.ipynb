{
 "cells": [
  {
   "cell_type": "code",
   "execution_count": 1,
   "id": "ab8ceab1-7c12-49e8-90fd-33eeb460c54d",
   "metadata": {},
   "outputs": [],
   "source": [
    "import teneva as tn\n",
    "import tensorly as tl\n",
    "import numpy as np\n",
    "import QuantLib as ql\n",
    "import matplotlib.pyplot as plt\n",
    "import pysabr\n",
    "import datetime as dt\n",
    "import csv\n",
    "import pandas as pd"
   ]
  },
  {
   "cell_type": "code",
   "execution_count": 2,
   "id": "f9382399-96ef-468f-9e2d-e9cbd617fe10",
   "metadata": {},
   "outputs": [],
   "source": [
    "train = pd.read_csv(\"fdm_hagan_vol_2.csv\")"
   ]
  },
  {
   "cell_type": "code",
   "execution_count": 3,
   "id": "8f3d0cf4-759b-4811-af37-a346874382e1",
   "metadata": {},
   "outputs": [],
   "source": [
    "strikes = [0.8, 0.9, 1.0, 1.1, 1.2, 1.3]\n",
    "tenors = [0.5, 1, 1.5, 2, 3, 4, 5, 6, 7, 8, 9, 10]\n",
    "alphas = [0.1, 0.2, 0.3, 0.4, 0.5, 0.6, 0.7, 0.8, 0.9]\n",
    "betas = [0.001, 0.05, 0.1, 0.15, 0.2, 0.25, 0.3, 0.35, 0.4, 0.45, 0.5]\n",
    "nus = [0.1, 0.15, 0.2, 0.25, 0.3, 0.35, 0.4, 0.45, 0.5]\n",
    "rhos = [-0.1, -0.075, -0.05, -0.025, 0, 0.025, 0.05, 0.075, 0.1]\n",
    "ranges = [strikes, tenors, alphas, betas, nus, rhos]"
   ]
  },
  {
   "cell_type": "code",
   "execution_count": 72,
   "id": "c05d2816-afe3-4a87-9de7-074ec15b3e53",
   "metadata": {},
   "outputs": [],
   "source": [
    "I_trn = np.array([[ranges[i].index(row[i]) for i in range(6)] for row in train[[\"Strike\", \"Tenor\", \"Alpha\", \"Beta\", \"Nu\", \"Rho\"]].values])"
   ]
  },
  {
   "cell_type": "code",
   "execution_count": 74,
   "id": "57ca931d-82cc-4216-a8d7-bdcdd70c4cdf",
   "metadata": {},
   "outputs": [],
   "source": [
    "Y_trn = np.abs(train.FDM_vol - train.Hagan_vol).values\n",
    "Y0 = tn.rand([6, 12, 9, 11, 9, 9], 3)"
   ]
  },
  {
   "cell_type": "code",
   "execution_count": 76,
   "id": "d3c9705b-7371-42d5-965d-a0dcfdc74e7c",
   "metadata": {},
   "outputs": [],
   "source": [
    "Y = tn.als(I_trn, Y_trn, Y0, 5)"
   ]
  },
  {
   "cell_type": "code",
   "execution_count": 77,
   "id": "98833aeb-3e24-494a-9ac4-f41ec6ab86c8",
   "metadata": {},
   "outputs": [],
   "source": [
    "get = tn.getter(Y)"
   ]
  },
  {
   "cell_type": "code",
   "execution_count": 78,
   "id": "621c065f-21f7-4f85-ac39-1b1cc45fd767",
   "metadata": {},
   "outputs": [],
   "source": [
    "Z = np.array([get(i) for i in I_trn])"
   ]
  },
  {
   "cell_type": "code",
   "execution_count": 83,
   "id": "146d20b8-6a69-44f1-8fd1-a59ca28dfba4",
   "metadata": {},
   "outputs": [
    {
     "data": {
      "text/plain": [
       "2.2411830163183663e-06"
      ]
     },
     "execution_count": 83,
     "metadata": {},
     "output_type": "execute_result"
    }
   ],
   "source": [
    "((Z - Y_trn)**2).mean()"
   ]
  },
  {
   "cell_type": "code",
   "execution_count": 82,
   "id": "e85f9b23-a7b6-4caa-a456-dd0a9ae77b76",
   "metadata": {},
   "outputs": [
    {
     "data": {
      "text/plain": [
       "0.008639672973811394"
      ]
     },
     "execution_count": 82,
     "metadata": {},
     "output_type": "execute_result"
    }
   ],
   "source": [
    "Y_trn[0]"
   ]
  },
  {
   "cell_type": "code",
   "execution_count": 84,
   "id": "4d80b084-56be-4484-a1b5-1afe3b6b57b7",
   "metadata": {},
   "outputs": [],
   "source": [
    "train_copy = train.copy()"
   ]
  },
  {
   "cell_type": "code",
   "execution_count": 87,
   "id": "fb1dae2e-1ec9-4ed5-b6f4-9c9504f318e1",
   "metadata": {},
   "outputs": [],
   "source": [
    "train_copy = train_copy.sample(frac=1)"
   ]
  },
  {
   "cell_type": "code",
   "execution_count": 124,
   "id": "7de62c96-e018-4797-b1fb-4337bee77c83",
   "metadata": {},
   "outputs": [],
   "source": [
    "I_trn = np.array([[ranges[i].index(row[i]) for i in range(6)] for row in train_copy[[\"Strike\", \"Tenor\", \"Alpha\", \"Beta\", \"Nu\", \"Rho\"]].values[:10000]])"
   ]
  },
  {
   "cell_type": "code",
   "execution_count": 125,
   "id": "377dcdd2-9289-4e73-89f0-e00ce35d7f31",
   "metadata": {},
   "outputs": [],
   "source": [
    "Y_trn = np.abs(train_copy.FDM_vol - train_copy.Hagan_vol).values[:10000]\n",
    "Y0 = tn.rand([6, 12, 9, 11, 9, 9], 10)"
   ]
  },
  {
   "cell_type": "code",
   "execution_count": 126,
   "id": "8dc20135-3558-4a83-8fbc-65ecbabf8e14",
   "metadata": {},
   "outputs": [],
   "source": [
    "Y = tn.als(I_trn, Y_trn, Y0, 30)"
   ]
  },
  {
   "cell_type": "code",
   "execution_count": 127,
   "id": "43f53b5f-2899-4d42-b9a4-e84ef3fe8f70",
   "metadata": {},
   "outputs": [],
   "source": [
    "get = tn.getter(Y)"
   ]
  },
  {
   "cell_type": "code",
   "execution_count": 128,
   "id": "11cb52b9-1e47-4ef7-8503-f072a6b24f00",
   "metadata": {},
   "outputs": [
    {
     "data": {
      "text/plain": [
       "0.023414074617844893"
      ]
     },
     "execution_count": 128,
     "metadata": {},
     "output_type": "execute_result"
    }
   ],
   "source": [
    "((np.array([get(i) for i in I_trn]) - Y_trn)**2).mean()**.5"
   ]
  },
  {
   "cell_type": "code",
   "execution_count": 129,
   "id": "8673f6ee-c656-4219-aa1e-b7332041a6f0",
   "metadata": {},
   "outputs": [],
   "source": [
    "I_tst = np.array([[ranges[i].index(row[i]) for i in range(6)] for row in train_copy[[\"Strike\", \"Tenor\", \"Alpha\", \"Beta\", \"Nu\", \"Rho\"]].values[503320:]])"
   ]
  },
  {
   "cell_type": "code",
   "execution_count": 130,
   "id": "4e05a9f5-8980-4ecc-adde-eee9330da37d",
   "metadata": {},
   "outputs": [],
   "source": [
    "Y_tst = np.abs(train_copy.FDM_vol - train_copy.Hagan_vol).values[503320:]"
   ]
  },
  {
   "cell_type": "code",
   "execution_count": 131,
   "id": "5a9753cf-b018-4edd-b3c6-bcf2ce265bdd",
   "metadata": {},
   "outputs": [
    {
     "data": {
      "text/plain": [
       "0.41675911672104404"
      ]
     },
     "execution_count": 131,
     "metadata": {},
     "output_type": "execute_result"
    }
   ],
   "source": [
    "((np.array([get(i) for i in I_tst]) - Y_tst)**2).mean()**.5"
   ]
  },
  {
   "cell_type": "code",
   "execution_count": 4,
   "id": "f2e20f57-abea-4f50-a9b7-6ba3dcef2da5",
   "metadata": {},
   "outputs": [],
   "source": [
    "def rmse(num_samples, rank):\n",
    "    rmse_train = 0\n",
    "    rmse_test = 0\n",
    "    for _ in range(4):\n",
    "        train_copy = train.sample(frac=1)\n",
    "        I_trn = np.array([[ranges[i].index(row[i]) for i in range(6)] for row in train_copy[[\"Strike\", \"Tenor\", \"Alpha\", \"Beta\", \"Nu\", \"Rho\"]].values[:num_samples]])\n",
    "        Y_trn = np.abs(train_copy.FDM_vol - train_copy.Hagan_vol).values[:num_samples]\n",
    "        Y0 = tn.rand([6, 12, 9, 11, 9, 9], rank)\n",
    "        Y = tn.als(I_trn, Y_trn, Y0)\n",
    "        get = tn.getter(Y)\n",
    "        I_tst = np.array([[ranges[i].index(row[i]) for i in range(6)] for row in train_copy[[\"Strike\", \"Tenor\", \"Alpha\", \"Beta\", \"Nu\", \"Rho\"]].values[503320:]])\n",
    "        Y_tst = np.abs(train_copy.FDM_vol - train_copy.Hagan_vol).values[503320:]\n",
    "        rmse_train += ((np.array([get(i) for i in I_trn]) - Y_trn)**2).mean()**.5\n",
    "        rmse_test += ((np.array([get(i) for i in I_tst]) - Y_tst)**2).mean()**.5\n",
    "    return rmse_train / 4, rmse_test / 4"
   ]
  },
  {
   "cell_type": "code",
   "execution_count": 143,
   "id": "6f32108a-be5d-4eab-9509-38b7bd43a478",
   "metadata": {},
   "outputs": [
    {
     "data": {
      "text/plain": [
       "(0.41843947349378835, 1.3059299536328275)"
      ]
     },
     "execution_count": 143,
     "metadata": {},
     "output_type": "execute_result"
    }
   ],
   "source": [
    "rmse(1000, 1)"
   ]
  },
  {
   "cell_type": "code",
   "execution_count": 144,
   "id": "a5e0919e-a385-4df1-94e0-ab399fa49ccc",
   "metadata": {},
   "outputs": [],
   "source": [
    "rmses = np.array([[rmse(num_samples, rank) for num_samples in [10000, 20000, 50000, 100000, 200000, 500000]] for rank in range(1, 6)])"
   ]
  },
  {
   "cell_type": "code",
   "execution_count": 145,
   "id": "00af24cd-f12b-41e0-916c-bc671e5da9aa",
   "metadata": {},
   "outputs": [
    {
     "data": {
      "text/plain": [
       "array([[[0.52574937, 0.59627825],\n",
       "        [0.53428694, 0.5827167 ],\n",
       "        [0.30251639, 0.31408998],\n",
       "        [0.06425404, 0.06386061],\n",
       "        [0.30618833, 0.31019846],\n",
       "        [0.06415196, 0.06416702]],\n",
       "\n",
       "       [[0.25433249, 0.43632444],\n",
       "        [0.38667247, 0.55256943],\n",
       "        [0.02749057, 0.02786859],\n",
       "        [0.02656951, 0.02673894],\n",
       "        [0.02666972, 0.02684177],\n",
       "        [0.02675617, 0.02677853]],\n",
       "\n",
       "       [[0.22663669, 0.47846578],\n",
       "        [0.12387503, 0.18295789],\n",
       "        [0.00593428, 0.00603266],\n",
       "        [0.0059709 , 0.00600017],\n",
       "        [0.00597815, 0.0059987 ],\n",
       "        [0.00598768, 0.00599748]],\n",
       "\n",
       "       [[0.05890113, 0.14499562],\n",
       "        [0.11095587, 0.2331433 ],\n",
       "        [0.00328149, 0.00338618],\n",
       "        [0.0032911 , 0.00334501],\n",
       "        [0.00331176, 0.00333126],\n",
       "        [0.0033147 , 0.0033183 ]],\n",
       "\n",
       "       [[0.16653846, 0.57067347],\n",
       "        [0.09208902, 0.22335016],\n",
       "        [0.00220187, 0.00231673],\n",
       "        [0.00222658, 0.002275  ],\n",
       "        [0.00223791, 0.00226474],\n",
       "        [0.00224557, 0.00224346]]])"
      ]
     },
     "execution_count": 145,
     "metadata": {},
     "output_type": "execute_result"
    }
   ],
   "source": [
    "rmses"
   ]
  },
  {
   "cell_type": "code",
   "execution_count": 16,
   "id": "0dc1d284-c2fc-41b6-bac1-c0f721daf0dc",
   "metadata": {},
   "outputs": [],
   "source": [
    "def rmse_fdm(num_samples, rank):\n",
    "    print(rank)\n",
    "    rmse_train = 0\n",
    "    rmse_test = 0\n",
    "    for _ in range(4):\n",
    "        train_copy = train.sample(frac=1)\n",
    "        I_trn = np.array([[ranges[i].index(row[i]) for i in range(6)] for row in train_copy[[\"Strike\", \"Tenor\", \"Alpha\", \"Beta\", \"Nu\", \"Rho\"]].values[:num_samples]])\n",
    "        Y_trn = train_copy.FDM_vol.values[:num_samples]\n",
    "        Y0 = tn.rand([6, 12, 9, 11, 9, 9], rank)\n",
    "        Y = tn.als(I_trn, Y_trn, Y0)\n",
    "        get = tn.getter(Y)\n",
    "        I_tst = np.array([[ranges[i].index(row[i]) for i in range(6)] for row in train_copy[[\"Strike\", \"Tenor\", \"Alpha\", \"Beta\", \"Nu\", \"Rho\"]].values[503320:]])\n",
    "        Y_tst = train_copy.FDM_vol.values[503320:]\n",
    "        rmse_train += ((np.array([get(i) for i in I_trn]) - Y_trn)**2).mean()**.5\n",
    "        rmse_test += ((np.array([get(i) for i in I_tst]) - Y_tst)**2).mean()**.5\n",
    "    return rmse_train / 4, rmse_test / 4"
   ]
  },
  {
   "cell_type": "code",
   "execution_count": 17,
   "id": "7c95b227-9fb7-44d5-89c4-f2f16e35ee98",
   "metadata": {},
   "outputs": [
    {
     "name": "stdout",
     "output_type": "stream",
     "text": [
      "1\n",
      "1\n",
      "1\n",
      "1\n",
      "2\n",
      "2\n",
      "2\n",
      "2\n",
      "3\n",
      "3\n",
      "3\n",
      "3\n",
      "4\n",
      "4\n",
      "4\n",
      "4\n"
     ]
    }
   ],
   "source": [
    "rmses_fdm = np.array([[rmse_fdm(num_samples, rank) for num_samples in [20000, 50000, 100000, 200000]] for rank in range(1, 5)])"
   ]
  },
  {
   "cell_type": "code",
   "execution_count": 18,
   "id": "ee8d82b2-a0e2-496c-8ae7-4a37f8a1a3aa",
   "metadata": {},
   "outputs": [
    {
     "data": {
      "text/plain": [
       "array([[[0.53248675, 0.53917282],\n",
       "        [0.15079801, 0.15171505],\n",
       "        [0.15113157, 0.17052657],\n",
       "        [0.15106729, 0.15152815]],\n",
       "\n",
       "       [[0.00693392, 0.00703136],\n",
       "        [0.00696662, 0.00701468],\n",
       "        [0.00699374, 0.00701846],\n",
       "        [0.00699758, 0.0069989 ]],\n",
       "\n",
       "       [[0.00326791, 0.00335535],\n",
       "        [0.00330995, 0.0033451 ],\n",
       "        [0.00329945, 0.0033257 ],\n",
       "        [0.00330858, 0.00330787]],\n",
       "\n",
       "       [[0.00192272, 0.00198728],\n",
       "        [0.0019375 , 0.0019634 ],\n",
       "        [0.001941  , 0.00195878],\n",
       "        [0.00194776, 0.00195992]]])"
      ]
     },
     "execution_count": 18,
     "metadata": {},
     "output_type": "execute_result"
    }
   ],
   "source": [
    "rmses_fdm"
   ]
  },
  {
   "cell_type": "code",
   "execution_count": 21,
   "id": "ae3664a9-02a8-4aff-93c8-ecdd128e5f6f",
   "metadata": {},
   "outputs": [
    {
     "name": "stdout",
     "output_type": "stream",
     "text": [
      "5\n",
      "(0.00110032985029886, 0.0011241772376659584)\n",
      "6\n",
      "(0.0005592976223017948, 0.0005728558071956325)\n",
      "7\n",
      "(0.00032229283126261366, 0.0003306044980336085)\n",
      "8\n",
      "(0.00022835831914416385, 0.00029215821482579007)\n",
      "9\n",
      "(0.00012990076899990958, 0.00016741395649312295)\n",
      "10\n",
      "(8.801880565936089e-05, 0.0001220093963005029)\n",
      "11\n",
      "(6.930279814734144e-05, 9.113160667052913e-05)\n",
      "12\n",
      "(5.118829838576794e-05, 6.177374452201524e-05)\n",
      "13\n",
      "(3.6930195821339925e-05, 5.6880236776504935e-05)\n",
      "14\n",
      "(2.696567933165979e-05, 4.4742387034427646e-05)\n"
     ]
    }
   ],
   "source": [
    "rmses_fdm_100k = []\n",
    "for rank in range(5, 15):\n",
    "    rmses_fdm_100k.append(rmse_fdm(100000, rank))\n",
    "    print(rmses_fdm_100k[rank-5])"
   ]
  },
  {
   "cell_type": "code",
   "execution_count": 23,
   "id": "4e7b2302-273a-49dd-837a-c07fd6d315bf",
   "metadata": {},
   "outputs": [
    {
     "name": "stdout",
     "output_type": "stream",
     "text": [
      "15\n",
      "(2.103827405424882e-05, 4.801671926628511e-05)\n",
      "16\n"
     ]
    },
    {
     "ename": "KeyboardInterrupt",
     "evalue": "",
     "output_type": "error",
     "traceback": [
      "\u001b[0;31m---------------------------------------------------------------------------\u001b[0m",
      "\u001b[0;31mKeyboardInterrupt\u001b[0m                         Traceback (most recent call last)",
      "Input \u001b[0;32mIn [23]\u001b[0m, in \u001b[0;36m<cell line: 1>\u001b[0;34m()\u001b[0m\n\u001b[1;32m      1\u001b[0m \u001b[38;5;28;01mfor\u001b[39;00m rank \u001b[38;5;129;01min\u001b[39;00m \u001b[38;5;28mrange\u001b[39m(\u001b[38;5;241m15\u001b[39m, \u001b[38;5;241m18\u001b[39m):\n\u001b[0;32m----> 2\u001b[0m     rmses_fdm_100k\u001b[38;5;241m.\u001b[39mappend(\u001b[43mrmse_fdm\u001b[49m\u001b[43m(\u001b[49m\u001b[38;5;241;43m100000\u001b[39;49m\u001b[43m,\u001b[49m\u001b[43m \u001b[49m\u001b[43mrank\u001b[49m\u001b[43m)\u001b[49m)\n\u001b[1;32m      3\u001b[0m     \u001b[38;5;28mprint\u001b[39m(rmses_fdm_100k[rank\u001b[38;5;241m-\u001b[39m\u001b[38;5;241m5\u001b[39m])\n",
      "Input \u001b[0;32mIn [16]\u001b[0m, in \u001b[0;36mrmse_fdm\u001b[0;34m(num_samples, rank)\u001b[0m\n\u001b[1;32m      8\u001b[0m Y_trn \u001b[38;5;241m=\u001b[39m train_copy\u001b[38;5;241m.\u001b[39mFDM_vol\u001b[38;5;241m.\u001b[39mvalues[:num_samples]\n\u001b[1;32m      9\u001b[0m Y0 \u001b[38;5;241m=\u001b[39m tn\u001b[38;5;241m.\u001b[39mrand([\u001b[38;5;241m6\u001b[39m, \u001b[38;5;241m12\u001b[39m, \u001b[38;5;241m9\u001b[39m, \u001b[38;5;241m11\u001b[39m, \u001b[38;5;241m9\u001b[39m, \u001b[38;5;241m9\u001b[39m], rank)\n\u001b[0;32m---> 10\u001b[0m Y \u001b[38;5;241m=\u001b[39m \u001b[43mtn\u001b[49m\u001b[38;5;241;43m.\u001b[39;49m\u001b[43mals\u001b[49m\u001b[43m(\u001b[49m\u001b[43mI_trn\u001b[49m\u001b[43m,\u001b[49m\u001b[43m \u001b[49m\u001b[43mY_trn\u001b[49m\u001b[43m,\u001b[49m\u001b[43m \u001b[49m\u001b[43mY0\u001b[49m\u001b[43m)\u001b[49m\n\u001b[1;32m     11\u001b[0m get \u001b[38;5;241m=\u001b[39m tn\u001b[38;5;241m.\u001b[39mgetter(Y)\n\u001b[1;32m     12\u001b[0m I_tst \u001b[38;5;241m=\u001b[39m np\u001b[38;5;241m.\u001b[39marray([[ranges[i]\u001b[38;5;241m.\u001b[39mindex(row[i]) \u001b[38;5;28;01mfor\u001b[39;00m i \u001b[38;5;129;01min\u001b[39;00m \u001b[38;5;28mrange\u001b[39m(\u001b[38;5;241m6\u001b[39m)] \u001b[38;5;28;01mfor\u001b[39;00m row \u001b[38;5;129;01min\u001b[39;00m train_copy[[\u001b[38;5;124m\"\u001b[39m\u001b[38;5;124mStrike\u001b[39m\u001b[38;5;124m\"\u001b[39m, \u001b[38;5;124m\"\u001b[39m\u001b[38;5;124mTenor\u001b[39m\u001b[38;5;124m\"\u001b[39m, \u001b[38;5;124m\"\u001b[39m\u001b[38;5;124mAlpha\u001b[39m\u001b[38;5;124m\"\u001b[39m, \u001b[38;5;124m\"\u001b[39m\u001b[38;5;124mBeta\u001b[39m\u001b[38;5;124m\"\u001b[39m, \u001b[38;5;124m\"\u001b[39m\u001b[38;5;124mNu\u001b[39m\u001b[38;5;124m\"\u001b[39m, \u001b[38;5;124m\"\u001b[39m\u001b[38;5;124mRho\u001b[39m\u001b[38;5;124m\"\u001b[39m]]\u001b[38;5;241m.\u001b[39mvalues[\u001b[38;5;241m503320\u001b[39m:]])\n",
      "File \u001b[0;32m/opt/anaconda3/envs/citi/lib/python3.8/site-packages/teneva/core/als.py:62\u001b[0m, in \u001b[0;36mals\u001b[0;34m(I_trn, Y_trn, Y0, nswp)\u001b[0m\n\u001b[1;32m     60\u001b[0m \u001b[38;5;28;01mfor\u001b[39;00m k \u001b[38;5;129;01min\u001b[39;00m \u001b[38;5;28mrange\u001b[39m(d\u001b[38;5;241m-\u001b[39m\u001b[38;5;241m1\u001b[39m, \u001b[38;5;241m0\u001b[39m, \u001b[38;5;241m-\u001b[39m\u001b[38;5;241m1\u001b[39m):\n\u001b[1;32m     61\u001b[0m     i_trn \u001b[38;5;241m=\u001b[39m I_trn[:, k]\n\u001b[0;32m---> 62\u001b[0m     \u001b[43moptimize_core\u001b[49m\u001b[43m(\u001b[49m\u001b[43mY\u001b[49m\u001b[43m[\u001b[49m\u001b[43mk\u001b[49m\u001b[43m]\u001b[49m\u001b[43m,\u001b[49m\u001b[43m \u001b[49m\u001b[43mi_trn\u001b[49m\u001b[43m,\u001b[49m\u001b[43m \u001b[49m\u001b[43mY_trn\u001b[49m\u001b[43m,\u001b[49m\u001b[43m \u001b[49m\u001b[43mYl\u001b[49m\u001b[43m[\u001b[49m\u001b[43mk\u001b[49m\u001b[43m]\u001b[49m\u001b[43m,\u001b[49m\u001b[43m \u001b[49m\u001b[43mYr\u001b[49m\u001b[43m[\u001b[49m\u001b[43mk\u001b[49m\u001b[43m]\u001b[49m\u001b[43m)\u001b[49m\n\u001b[1;32m     63\u001b[0m     orthogonalize_right(Y, k)\n\u001b[1;32m     64\u001b[0m     Yr[k\u001b[38;5;241m-\u001b[39m\u001b[38;5;241m1\u001b[39m] \u001b[38;5;241m=\u001b[39m np\u001b[38;5;241m.\u001b[39meinsum(\u001b[38;5;124m'\u001b[39m\u001b[38;5;124mijk,kjl->ijl\u001b[39m\u001b[38;5;124m'\u001b[39m, Y[k][:, i_trn, :], Yr[k])\n",
      "File \u001b[0;32m/opt/anaconda3/envs/citi/lib/python3.8/site-packages/teneva/core/als.py:168\u001b[0m, in \u001b[0;36moptimize_core\u001b[0;34m(G, i_trn, Y_trn, left, right)\u001b[0m\n\u001b[1;32m    164\u001b[0m A \u001b[38;5;241m=\u001b[39m _reshape(lhs \u001b[38;5;241m*\u001b[39m rhs, (\u001b[38;5;28mlen\u001b[39m(idx), \u001b[38;5;241m-\u001b[39m\u001b[38;5;241m1\u001b[39m))\n\u001b[1;32m    166\u001b[0m b \u001b[38;5;241m=\u001b[39m Y_trn[idx]\n\u001b[0;32m--> 168\u001b[0m sol, residuals \u001b[38;5;241m=\u001b[39m \u001b[43msp\u001b[49m\u001b[38;5;241;43m.\u001b[39;49m\u001b[43mlinalg\u001b[49m\u001b[38;5;241;43m.\u001b[39;49m\u001b[43mlstsq\u001b[49m\u001b[43m(\u001b[49m\u001b[43mA\u001b[49m\u001b[43m,\u001b[49m\u001b[43m \u001b[49m\u001b[43mb\u001b[49m\u001b[43m)\u001b[49m[\u001b[38;5;241m0\u001b[39m:\u001b[38;5;241m2\u001b[39m]\n\u001b[1;32m    169\u001b[0m \u001b[38;5;28;01mif\u001b[39;00m residuals\u001b[38;5;241m.\u001b[39msize \u001b[38;5;241m==\u001b[39m \u001b[38;5;241m0\u001b[39m:\n\u001b[1;32m    170\u001b[0m     residuals \u001b[38;5;241m=\u001b[39m np\u001b[38;5;241m.\u001b[39mlinalg\u001b[38;5;241m.\u001b[39mnorm(A\u001b[38;5;241m.\u001b[39mdot(sol) \u001b[38;5;241m-\u001b[39m b) \u001b[38;5;241m*\u001b[39m\u001b[38;5;241m*\u001b[39m \u001b[38;5;241m2\u001b[39m\n",
      "File \u001b[0;32m/opt/anaconda3/envs/citi/lib/python3.8/site-packages/scipy/linalg/_basic.py:1204\u001b[0m, in \u001b[0;36mlstsq\u001b[0;34m(a, b, cond, overwrite_a, overwrite_b, check_finite, lapack_driver)\u001b[0m\n\u001b[1;32m   1202\u001b[0m \u001b[38;5;28;01mif\u001b[39;00m real_data:\n\u001b[1;32m   1203\u001b[0m     lwork, iwork \u001b[38;5;241m=\u001b[39m _compute_lwork(lapack_lwork, m, n, nrhs, cond)\n\u001b[0;32m-> 1204\u001b[0m     x, s, rank, info \u001b[38;5;241m=\u001b[39m \u001b[43mlapack_func\u001b[49m\u001b[43m(\u001b[49m\u001b[43ma1\u001b[49m\u001b[43m,\u001b[49m\u001b[43m \u001b[49m\u001b[43mb1\u001b[49m\u001b[43m,\u001b[49m\u001b[43m \u001b[49m\u001b[43mlwork\u001b[49m\u001b[43m,\u001b[49m\n\u001b[1;32m   1205\u001b[0m \u001b[43m                                   \u001b[49m\u001b[43miwork\u001b[49m\u001b[43m,\u001b[49m\u001b[43m \u001b[49m\u001b[43mcond\u001b[49m\u001b[43m,\u001b[49m\u001b[43m \u001b[49m\u001b[38;5;28;43;01mFalse\u001b[39;49;00m\u001b[43m,\u001b[49m\u001b[43m \u001b[49m\u001b[38;5;28;43;01mFalse\u001b[39;49;00m\u001b[43m)\u001b[49m\n\u001b[1;32m   1206\u001b[0m \u001b[38;5;28;01melse\u001b[39;00m:  \u001b[38;5;66;03m# complex data\u001b[39;00m\n\u001b[1;32m   1207\u001b[0m     lwork, rwork, iwork \u001b[38;5;241m=\u001b[39m _compute_lwork(lapack_lwork, m, n,\n\u001b[1;32m   1208\u001b[0m                                          nrhs, cond)\n",
      "\u001b[0;31mKeyboardInterrupt\u001b[0m: "
     ]
    }
   ],
   "source": [
    "for rank in range(15, 18):\n",
    "    rmses_fdm_100k.append(rmse_fdm(100000, rank))\n",
    "    print(rmses_fdm_100k[rank-5])"
   ]
  },
  {
   "cell_type": "code",
   "execution_count": 6,
   "id": "218c99a9-9940-4071-a823-d82ef5f30673",
   "metadata": {},
   "outputs": [
    {
     "name": "stdout",
     "output_type": "stream",
     "text": [
      "(0.04608821882414622, 0.04724737968353248)\n",
      "(0.00665984208594283, 0.006742511143074561)\n",
      "(0.0014904199278144915, 0.0015067253899621812)\n",
      "(0.0008239799617262664, 0.0008342222983884591)\n",
      "(0.0005521362428681462, 0.0005685020912900294)\n",
      "(0.00035594557815956366, 0.00036514785445505675)\n",
      "(0.00019594930201632452, 0.00021157413386982968)\n",
      "(0.00011864608547673488, 0.00012388514611958403)\n",
      "(8.09130368830911e-05, 8.488230318089242e-05)\n"
     ]
    }
   ],
   "source": [
    "rmses = []\n",
    "for rank in range(1, 10):\n",
    "    rmses.append(rmse(100000, rank))\n",
    "    print(rmses[rank-1])"
   ]
  },
  {
   "cell_type": "code",
   "execution_count": 19,
   "id": "1aafc9ab-20e3-42d3-9495-d7f0760b1221",
   "metadata": {},
   "outputs": [
    {
     "name": "stdout",
     "output_type": "stream",
     "text": [
      "(6.608350528559223e-05, 0.0005325911067088157)\n"
     ]
    },
    {
     "ename": "KeyboardInterrupt",
     "evalue": "",
     "output_type": "error",
     "traceback": [
      "\u001b[0;31m---------------------------------------------------------------------------\u001b[0m",
      "\u001b[0;31mKeyboardInterrupt\u001b[0m                         Traceback (most recent call last)",
      "Input \u001b[0;32mIn [19]\u001b[0m, in \u001b[0;36m<cell line: 1>\u001b[0;34m()\u001b[0m\n\u001b[1;32m      1\u001b[0m \u001b[38;5;28;01mfor\u001b[39;00m rank \u001b[38;5;129;01min\u001b[39;00m \u001b[38;5;28mrange\u001b[39m(\u001b[38;5;241m10\u001b[39m, \u001b[38;5;241m15\u001b[39m):\n\u001b[0;32m----> 2\u001b[0m     rmses\u001b[38;5;241m.\u001b[39mappend(\u001b[43mrmse\u001b[49m\u001b[43m(\u001b[49m\u001b[38;5;241;43m100000\u001b[39;49m\u001b[43m,\u001b[49m\u001b[43m \u001b[49m\u001b[43mrank\u001b[49m\u001b[43m)\u001b[49m)\n\u001b[1;32m      3\u001b[0m     \u001b[38;5;28mprint\u001b[39m(rmses[rank\u001b[38;5;241m-\u001b[39m\u001b[38;5;241m1\u001b[39m])\n",
      "Input \u001b[0;32mIn [4]\u001b[0m, in \u001b[0;36mrmse\u001b[0;34m(num_samples, rank)\u001b[0m\n\u001b[1;32m      7\u001b[0m Y_trn \u001b[38;5;241m=\u001b[39m np\u001b[38;5;241m.\u001b[39mabs(train_copy\u001b[38;5;241m.\u001b[39mFDM_vol \u001b[38;5;241m-\u001b[39m train_copy\u001b[38;5;241m.\u001b[39mHagan_vol)\u001b[38;5;241m.\u001b[39mvalues[:num_samples]\n\u001b[1;32m      8\u001b[0m Y0 \u001b[38;5;241m=\u001b[39m tn\u001b[38;5;241m.\u001b[39mrand([\u001b[38;5;241m6\u001b[39m, \u001b[38;5;241m12\u001b[39m, \u001b[38;5;241m9\u001b[39m, \u001b[38;5;241m11\u001b[39m, \u001b[38;5;241m9\u001b[39m, \u001b[38;5;241m9\u001b[39m], rank)\n\u001b[0;32m----> 9\u001b[0m Y \u001b[38;5;241m=\u001b[39m \u001b[43mtn\u001b[49m\u001b[38;5;241;43m.\u001b[39;49m\u001b[43mals\u001b[49m\u001b[43m(\u001b[49m\u001b[43mI_trn\u001b[49m\u001b[43m,\u001b[49m\u001b[43m \u001b[49m\u001b[43mY_trn\u001b[49m\u001b[43m,\u001b[49m\u001b[43m \u001b[49m\u001b[43mY0\u001b[49m\u001b[43m)\u001b[49m\n\u001b[1;32m     10\u001b[0m get \u001b[38;5;241m=\u001b[39m tn\u001b[38;5;241m.\u001b[39mgetter(Y)\n\u001b[1;32m     11\u001b[0m I_tst \u001b[38;5;241m=\u001b[39m np\u001b[38;5;241m.\u001b[39marray([[ranges[i]\u001b[38;5;241m.\u001b[39mindex(row[i]) \u001b[38;5;28;01mfor\u001b[39;00m i \u001b[38;5;129;01min\u001b[39;00m \u001b[38;5;28mrange\u001b[39m(\u001b[38;5;241m6\u001b[39m)] \u001b[38;5;28;01mfor\u001b[39;00m row \u001b[38;5;129;01min\u001b[39;00m train_copy[[\u001b[38;5;124m\"\u001b[39m\u001b[38;5;124mStrike\u001b[39m\u001b[38;5;124m\"\u001b[39m, \u001b[38;5;124m\"\u001b[39m\u001b[38;5;124mTenor\u001b[39m\u001b[38;5;124m\"\u001b[39m, \u001b[38;5;124m\"\u001b[39m\u001b[38;5;124mAlpha\u001b[39m\u001b[38;5;124m\"\u001b[39m, \u001b[38;5;124m\"\u001b[39m\u001b[38;5;124mBeta\u001b[39m\u001b[38;5;124m\"\u001b[39m, \u001b[38;5;124m\"\u001b[39m\u001b[38;5;124mNu\u001b[39m\u001b[38;5;124m\"\u001b[39m, \u001b[38;5;124m\"\u001b[39m\u001b[38;5;124mRho\u001b[39m\u001b[38;5;124m\"\u001b[39m]]\u001b[38;5;241m.\u001b[39mvalues[\u001b[38;5;241m503320\u001b[39m:]])\n",
      "File \u001b[0;32m/opt/anaconda3/envs/citi/lib/python3.8/site-packages/teneva/core/als.py:56\u001b[0m, in \u001b[0;36mals\u001b[0;34m(I_trn, Y_trn, Y0, nswp)\u001b[0m\n\u001b[1;32m     54\u001b[0m \u001b[38;5;28;01mfor\u001b[39;00m k \u001b[38;5;129;01min\u001b[39;00m \u001b[38;5;28mrange\u001b[39m(d\u001b[38;5;241m-\u001b[39m\u001b[38;5;241m1\u001b[39m):\n\u001b[1;32m     55\u001b[0m     i_trn \u001b[38;5;241m=\u001b[39m I_trn[:, k]\n\u001b[0;32m---> 56\u001b[0m     \u001b[43moptimize_core\u001b[49m\u001b[43m(\u001b[49m\u001b[43mY\u001b[49m\u001b[43m[\u001b[49m\u001b[43mk\u001b[49m\u001b[43m]\u001b[49m\u001b[43m,\u001b[49m\u001b[43m \u001b[49m\u001b[43mi_trn\u001b[49m\u001b[43m,\u001b[49m\u001b[43m \u001b[49m\u001b[43mY_trn\u001b[49m\u001b[43m,\u001b[49m\u001b[43m \u001b[49m\u001b[43mYl\u001b[49m\u001b[43m[\u001b[49m\u001b[43mk\u001b[49m\u001b[43m]\u001b[49m\u001b[43m,\u001b[49m\u001b[43m \u001b[49m\u001b[43mYr\u001b[49m\u001b[43m[\u001b[49m\u001b[43mk\u001b[49m\u001b[43m]\u001b[49m\u001b[43m)\u001b[49m\n\u001b[1;32m     57\u001b[0m     orthogonalize_left(Y, k)\n\u001b[1;32m     58\u001b[0m     Yl[k\u001b[38;5;241m+\u001b[39m\u001b[38;5;241m1\u001b[39m] \u001b[38;5;241m=\u001b[39m np\u001b[38;5;241m.\u001b[39meinsum(\u001b[38;5;124m'\u001b[39m\u001b[38;5;124mijk,kjl->ijl\u001b[39m\u001b[38;5;124m'\u001b[39m, Yl[k], Y[k][:, i_trn, :])\n",
      "File \u001b[0;32m/opt/anaconda3/envs/citi/lib/python3.8/site-packages/teneva/core/als.py:168\u001b[0m, in \u001b[0;36moptimize_core\u001b[0;34m(G, i_trn, Y_trn, left, right)\u001b[0m\n\u001b[1;32m    164\u001b[0m A \u001b[38;5;241m=\u001b[39m _reshape(lhs \u001b[38;5;241m*\u001b[39m rhs, (\u001b[38;5;28mlen\u001b[39m(idx), \u001b[38;5;241m-\u001b[39m\u001b[38;5;241m1\u001b[39m))\n\u001b[1;32m    166\u001b[0m b \u001b[38;5;241m=\u001b[39m Y_trn[idx]\n\u001b[0;32m--> 168\u001b[0m sol, residuals \u001b[38;5;241m=\u001b[39m \u001b[43msp\u001b[49m\u001b[38;5;241;43m.\u001b[39;49m\u001b[43mlinalg\u001b[49m\u001b[38;5;241;43m.\u001b[39;49m\u001b[43mlstsq\u001b[49m\u001b[43m(\u001b[49m\u001b[43mA\u001b[49m\u001b[43m,\u001b[49m\u001b[43m \u001b[49m\u001b[43mb\u001b[49m\u001b[43m)\u001b[49m[\u001b[38;5;241m0\u001b[39m:\u001b[38;5;241m2\u001b[39m]\n\u001b[1;32m    169\u001b[0m \u001b[38;5;28;01mif\u001b[39;00m residuals\u001b[38;5;241m.\u001b[39msize \u001b[38;5;241m==\u001b[39m \u001b[38;5;241m0\u001b[39m:\n\u001b[1;32m    170\u001b[0m     residuals \u001b[38;5;241m=\u001b[39m np\u001b[38;5;241m.\u001b[39mlinalg\u001b[38;5;241m.\u001b[39mnorm(A\u001b[38;5;241m.\u001b[39mdot(sol) \u001b[38;5;241m-\u001b[39m b) \u001b[38;5;241m*\u001b[39m\u001b[38;5;241m*\u001b[39m \u001b[38;5;241m2\u001b[39m\n",
      "File \u001b[0;32m/opt/anaconda3/envs/citi/lib/python3.8/site-packages/scipy/linalg/_basic.py:1204\u001b[0m, in \u001b[0;36mlstsq\u001b[0;34m(a, b, cond, overwrite_a, overwrite_b, check_finite, lapack_driver)\u001b[0m\n\u001b[1;32m   1202\u001b[0m \u001b[38;5;28;01mif\u001b[39;00m real_data:\n\u001b[1;32m   1203\u001b[0m     lwork, iwork \u001b[38;5;241m=\u001b[39m _compute_lwork(lapack_lwork, m, n, nrhs, cond)\n\u001b[0;32m-> 1204\u001b[0m     x, s, rank, info \u001b[38;5;241m=\u001b[39m \u001b[43mlapack_func\u001b[49m\u001b[43m(\u001b[49m\u001b[43ma1\u001b[49m\u001b[43m,\u001b[49m\u001b[43m \u001b[49m\u001b[43mb1\u001b[49m\u001b[43m,\u001b[49m\u001b[43m \u001b[49m\u001b[43mlwork\u001b[49m\u001b[43m,\u001b[49m\n\u001b[1;32m   1205\u001b[0m \u001b[43m                                   \u001b[49m\u001b[43miwork\u001b[49m\u001b[43m,\u001b[49m\u001b[43m \u001b[49m\u001b[43mcond\u001b[49m\u001b[43m,\u001b[49m\u001b[43m \u001b[49m\u001b[38;5;28;43;01mFalse\u001b[39;49;00m\u001b[43m,\u001b[49m\u001b[43m \u001b[49m\u001b[38;5;28;43;01mFalse\u001b[39;49;00m\u001b[43m)\u001b[49m\n\u001b[1;32m   1206\u001b[0m \u001b[38;5;28;01melse\u001b[39;00m:  \u001b[38;5;66;03m# complex data\u001b[39;00m\n\u001b[1;32m   1207\u001b[0m     lwork, rwork, iwork \u001b[38;5;241m=\u001b[39m _compute_lwork(lapack_lwork, m, n,\n\u001b[1;32m   1208\u001b[0m                                          nrhs, cond)\n",
      "\u001b[0;31mKeyboardInterrupt\u001b[0m: "
     ]
    }
   ],
   "source": [
    "for rank in range(11, 12):\n",
    "    rmses.append(rmse(100000, rank))\n",
    "    print(rmses[rank-1])"
   ]
  },
  {
   "cell_type": "code",
   "execution_count": 8,
   "id": "7630cf28-da46-4148-80a9-1dd35dac364f",
   "metadata": {},
   "outputs": [],
   "source": [
    "num_samples=100000\n",
    "rank=9\n",
    "train_copy = train.sample(frac=1)\n",
    "I_trn = np.array([[ranges[i].index(row[i]) for i in range(6)] for row in train_copy[[\"Strike\", \"Tenor\", \"Alpha\", \"Beta\", \"Nu\", \"Rho\"]].values[:num_samples]])\n",
    "Y_trn = np.abs(train_copy.FDM_vol - train_copy.Hagan_vol).values[:num_samples]\n",
    "Y0 = tn.rand([6, 12, 9, 11, 9, 9], rank)\n",
    "Y = tn.als(I_trn, Y_trn, Y0)\n",
    "get = tn.getter(Y)"
   ]
  },
  {
   "cell_type": "code",
   "execution_count": 9,
   "id": "5703f8b0-85ba-4cb7-9344-3ce765cbb223",
   "metadata": {},
   "outputs": [
    {
     "data": {
      "text/plain": [
       "0.4165466210886577"
      ]
     },
     "execution_count": 9,
     "metadata": {},
     "output_type": "execute_result"
    }
   ],
   "source": [
    "row = [1.3, 10, 0.9, 0.001, 0.25, 0.1]\n",
    "get(np.array([ranges[i].index(row[i]) for i in range(6)]))"
   ]
  },
  {
   "cell_type": "code",
   "execution_count": 25,
   "id": "a9beda60-bec9-4594-a75b-9b0b5d7f77d5",
   "metadata": {},
   "outputs": [],
   "source": [
    "rmses_all = np.array([[[0.52574937, 0.59627825],\n",
    "        [0.53428694, 0.5827167 ],\n",
    "        [0.30251639, 0.31408998],\n",
    "        [0.06425404, 0.06386061],\n",
    "        [0.30618833, 0.31019846],\n",
    "        [0.06415196, 0.06416702]],\n",
    "\n",
    "       [[0.25433249, 0.43632444],\n",
    "        [0.38667247, 0.55256943],\n",
    "        [0.02749057, 0.02786859],\n",
    "        [0.02656951, 0.02673894],\n",
    "        [0.02666972, 0.02684177],\n",
    "        [0.02675617, 0.02677853]],\n",
    "\n",
    "       [[0.22663669, 0.47846578],\n",
    "        [0.12387503, 0.18295789],\n",
    "        [0.00593428, 0.00603266],\n",
    "        [0.0059709 , 0.00600017],\n",
    "        [0.00597815, 0.0059987 ],\n",
    "        [0.00598768, 0.00599748]],\n",
    "\n",
    "       [[0.05890113, 0.14499562],\n",
    "        [0.11095587, 0.2331433 ],\n",
    "        [0.00328149, 0.00338618],\n",
    "        [0.0032911 , 0.00334501],\n",
    "        [0.00331176, 0.00333126],\n",
    "        [0.0033147 , 0.0033183 ]],\n",
    "\n",
    "       [[0.16653846, 0.57067347],\n",
    "        [0.09208902, 0.22335016],\n",
    "        [0.00220187, 0.00231673],\n",
    "        [0.00222658, 0.002275  ],\n",
    "        [0.00223791, 0.00226474],\n",
    "        [0.00224557, 0.00224346]]])"
   ]
  },
  {
   "cell_type": "code",
   "execution_count": 33,
   "id": "c4045e62-6897-4176-ac54-032eb74ed39e",
   "metadata": {},
   "outputs": [
    {
     "data": {
      "text/plain": [
       "Text(0.5, 1.0, 'RMSE of TT-ALS on abs(FDM-Hagan)')"
      ]
     },
     "execution_count": 33,
     "metadata": {},
     "output_type": "execute_result"
    },
    {
     "data": {
      "image/png": "[encoded data removed]",
      "text/plain": [
       "<Figure size 432x288 with 1 Axes>"
      ]
     },
     "metadata": {
      "needs_background": "light"
     },
     "output_type": "display_data"
    }
   ],
   "source": [
    "for rank in range(1, 6):\n",
    "    plt.plot([10000, 20000, 50000, 100000, 200000, 500000], rmses_all[rank-1,:,1], label=f\"Rank {rank}\")\n",
    "plt.legend()\n",
    "plt.xlabel(\"Number of training samples\")\n",
    "plt.ylabel(\"RMSE\")\n",
    "plt.title(\"RMSE of TT-ALS on abs(FDM-Hagan)\")"
   ]
  },
  {
   "cell_type": "code",
   "execution_count": 34,
   "id": "72a24593-0f46-4352-a88c-6696a3269d13",
   "metadata": {},
   "outputs": [
    {
     "data": {
      "text/plain": [
       "Text(0.5, 1.0, 'RMSE of TT-ALS on abs(FDM-Hagan)')"
      ]
     },
     "execution_count": 34,
     "metadata": {},
     "output_type": "execute_result"
    },
    {
     "data": {
      "image/png": "[encoded data removed]",
      "text/plain": [
       "<Figure size 432x288 with 1 Axes>"
      ]
     },
     "metadata": {
      "needs_background": "light"
     },
     "output_type": "display_data"
    }
   ],
   "source": [
    "for rank in range(2, 6):\n",
    "    plt.plot([50000, 100000, 200000, 500000], rmses_all[rank-1,2:,1], label=f\"Rank {rank}\")\n",
    "plt.legend()\n",
    "plt.xlabel(\"Number of training samples\")\n",
    "plt.ylabel(\"RMSE\")\n",
    "plt.title(\"RMSE of TT-ALS on abs(FDM-Hagan)\")"
   ]
  },
  {
   "cell_type": "code",
   "execution_count": 43,
   "id": "780cca57-b5ee-44b6-9100-798157a4e04c",
   "metadata": {},
   "outputs": [
    {
     "data": {
      "text/plain": [
       "Text(0.5, 1.0, 'RMSE of TT-ALS on abs(FDM-Hagan)')"
      ]
     },
     "execution_count": 43,
     "metadata": {},
     "output_type": "execute_result"
    },
    {
     "data": {
      "image/png": "[encoded data removed]",
      "text/plain": [
       "<Figure size 432x288 with 1 Axes>"
      ]
     },
     "metadata": {
      "needs_background": "light"
     },
     "output_type": "display_data"
    }
   ],
   "source": [
    "plt.plot(range(2, 11), np.array(rmses)[1:, 0], label=\"Training RMSE\")\n",
    "plt.plot(range(2, 11), np.array(rmses)[1:, 1], label=\"Validation RMSE\")\n",
    "plt.legend()\n",
    "plt.xlabel(\"Rank\")\n",
    "plt.ylabel(\"RMSE\")\n",
    "plt.title(\"RMSE of TT-ALS on abs(FDM-Hagan)\")"
   ]
  },
  {
   "cell_type": "code",
   "execution_count": 45,
   "id": "769d3c66-b50b-4003-a4d4-4b259c6693e3",
   "metadata": {},
   "outputs": [
    {
     "data": {
      "text/plain": [
       "Text(0.5, 1.0, 'RMSE of TT-ALS on FDM')"
      ]
     },
     "execution_count": 45,
     "metadata": {},
     "output_type": "execute_result"
    },
    {
     "data": {
      "image/png": "[encoded data removed]",
      "text/plain": [
       "<Figure size 432x288 with 1 Axes>"
      ]
     },
     "metadata": {
      "needs_background": "light"
     },
     "output_type": "display_data"
    }
   ],
   "source": [
    "for rank in range(2, 5):\n",
    "    plt.plot([20000, 50000, 100000, 200000], rmses_fdm[rank-1,:,1], label=f\"Rank {rank}\")\n",
    "plt.legend()\n",
    "plt.xlabel(\"Number of training samples\")\n",
    "plt.ylabel(\"RMSE\")\n",
    "plt.title(\"RMSE of TT-ALS on FDM\")"
   ]
  },
  {
   "cell_type": "code",
   "execution_count": 47,
   "id": "28f872b3-a437-4794-b821-1c79dab49d0a",
   "metadata": {},
   "outputs": [
    {
     "data": {
      "text/plain": [
       "Text(0.5, 1.0, 'RMSE of TT-ALS on FDM')"
      ]
     },
     "execution_count": 47,
     "metadata": {},
     "output_type": "execute_result"
    },
    {
     "data": {
      "image/png": "[encoded data removed]",
      "text/plain": [
       "<Figure size 432x288 with 1 Axes>"
      ]
     },
     "metadata": {
      "needs_background": "light"
     },
     "output_type": "display_data"
    }
   ],
   "source": [
    "plt.plot(range(2, 12), np.array(rmses_fdm_100k)[1:, 0], label=\"Training RMSE\")\n",
    "plt.plot(range(2, 12), np.array(rmses_fdm_100k)[1:, 1], label=\"Validation RMSE\")\n",
    "plt.legend()\n",
    "plt.xlabel(\"Rank\")\n",
    "plt.ylabel(\"RMSE\")\n",
    "plt.title(\"RMSE of TT-ALS on FDM\")"
   ]
  },
  {
   "cell_type": "code",
   "execution_count": 49,
   "id": "3dd077e5-a095-4371-bc7f-193270729414",
   "metadata": {},
   "outputs": [
    {
     "data": {
      "text/plain": [
       "[(0.00110032985029886, 0.0011241772376659584),\n",
       " (0.0005592976223017948, 0.0005728558071956325),\n",
       " (0.00032229283126261366, 0.0003306044980336085),\n",
       " (0.00022835831914416385, 0.00029215821482579007),\n",
       " (0.00012990076899990958, 0.00016741395649312295),\n",
       " (8.801880565936089e-05, 0.0001220093963005029),\n",
       " (6.930279814734144e-05, 9.113160667052913e-05),\n",
       " (5.118829838576794e-05, 6.177374452201524e-05),\n",
       " (3.6930195821339925e-05, 5.6880236776504935e-05),\n",
       " (2.696567933165979e-05, 4.4742387034427646e-05),\n",
       " (2.103827405424882e-05, 4.801671926628511e-05)]"
      ]
     },
     "execution_count": 49,
     "metadata": {},
     "output_type": "execute_result"
    }
   ],
   "source": [
    "rmses_fdm_100k"
   ]
  },
  {
   "cell_type": "code",
   "execution_count": 55,
   "id": "87817426-cf85-487e-af7a-162e91c3273d",
   "metadata": {},
   "outputs": [
    {
     "data": {
      "text/plain": [
       "datetime.timedelta(microseconds=443)"
      ]
     },
     "execution_count": 55,
     "metadata": {},
     "output_type": "execute_result"
    }
   ],
   "source": [
    "start = dt.datetime.now()\n",
    "get(np.array([ranges[i].index(row[i]) for i in range(6)]))\n",
    "dt.datetime.now() - start"
   ]
  },
  {
   "cell_type": "code",
   "execution_count": null,
   "id": "323c1a7c-d885-4d37-bb5d-774267e38617",
   "metadata": {},
   "outputs": [],
   "source": []
  }
 ],
 "metadata": {
  "kernelspec": {
   "display_name": "Python 3 (ipykernel)",
   "language": "python",
   "name": "python3"
  },
  "language_info": {
   "codemirror_mode": {
    "name": "ipython",
    "version": 3
   },
   "file_extension": ".py",
   "mimetype": "text/x-python",
   "name": "python",
   "nbconvert_exporter": "python",
   "pygments_lexer": "ipython3",
   "version": "3.8.13"
  }
 },
 "nbformat": 4,
 "nbformat_minor": 5
}
